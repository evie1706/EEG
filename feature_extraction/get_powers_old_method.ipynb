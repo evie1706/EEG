{
 "cells": [
  {
   "cell_type": "code",
   "execution_count": 95,
   "metadata": {},
   "outputs": [],
   "source": [
    "# Import all the required libraries \n",
    "\n",
    "from glob import glob\n",
    "import mne\n",
    "import numpy as np\n",
    "import matplotlib.pyplot as plt \n",
    "import pandas as pd\n",
    "from scipy import stats\n",
    "from scipy import signal\n",
    "from scipy import fftpack\n",
    "import pywt\n",
    "import os,sys\n",
    "from scipy.signal import coherence"
   ]
  },
  {
   "cell_type": "code",
   "execution_count": 96,
   "metadata": {},
   "outputs": [
    {
     "name": "stdout",
     "output_type": "stream",
     "text": [
      "80\n",
      "F:\\Alabama_Internship\\EEG\\Deepesh_Original_EEG_Data\\H10_EC_post.edf\n"
     ]
    }
   ],
   "source": [
    "all_files = glob('F:\\Alabama_Internship\\EEG\\Deepesh_Original_EEG_Data\\*.edf')\n",
    "print(len(all_files))\n",
    "print(all_files[0])"
   ]
  },
  {
   "cell_type": "code",
   "execution_count": 97,
   "metadata": {},
   "outputs": [
    {
     "name": "stdout",
     "output_type": "stream",
     "text": [
      "F:\\Alabama_Internship\\EEG\\Deepesh_Original_EEG_Data\\H9_EC_pre.edf F:\\Alabama_Internship\\EEG\\Deepesh_Original_EEG_Data\\H9_EC_post.edf\n"
     ]
    }
   ],
   "source": [
    "EC_pre = [i for i in all_files if 'EC_pre' in i.split(\"\\\\\")[4]]\n",
    "EC_post = [i for i in all_files if 'EC_post' in i.split(\"\\\\\")[4]]\n",
    "\n",
    "EC_pre.sort()\n",
    "EC_post.sort()\n",
    "\n",
    "print(EC_pre[19], EC_post[19])"
   ]
  },
  {
   "cell_type": "code",
   "execution_count": 98,
   "metadata": {},
   "outputs": [],
   "source": [
    "%%capture\n",
    "\n",
    "alpha = [8, 13]\n",
    "beta = [13, 30]\n",
    "delta = [1.25, 4]\n",
    "theta = [4, 8]\n",
    "gamma = [30, 48]\n",
    "\n",
    "alpha_powers_pre = []\n",
    "beta_powers_pre = []\n",
    "delta_powers_pre = []\n",
    "theta_powers_pre = []\n",
    "gamma_powers_pre = []\n",
    "\n",
    "alpha_powers_pre_all = []\n",
    "beta_powers_pre_all = []\n",
    "delta_powers_pre_all = []\n",
    "theta_powers_pre_all = []\n",
    "gamma_powers_pre_all = []\n",
    "\n",
    "def signal_power(signal_data, sample_rate, f_low, f_high):\n",
    "    # Apply FFT to the signal data\n",
    "    signal_fft = fftpack.fft(signal_data)\n",
    "    # Get the frequency axis\n",
    "    signal_freqs = fftpack.fftfreq(len(signal_data), d=1/sample_rate)\n",
    "    # Find the power of the signal in the frequency band of interest\n",
    "    power = 0\n",
    "    for i, freq in enumerate(signal_freqs):\n",
    "        if freq >= f_low and freq <= f_high:\n",
    "            power += abs(signal_fft[i])**2\n",
    "    return power\n",
    "\n",
    "for file in EC_pre:\n",
    "    raw = mne.io.read_raw_edf(file, preload=True, exclude=['EEG VREF'])\n",
    "    raw = raw.crop(tmin=10, tmax=300)\n",
    "    # alpha_spect = (raw.copy()).filter(alpha[0], alpha[1])\n",
    "    # beta_spect = (raw.copy()).filter(beta[0], beta[1])\n",
    "    # delta_spect = (raw.copy()).filter(delta[0], delta[1])\n",
    "    # theta_spect = (raw.copy()).filter(theta[0], theta[1])\n",
    "\n",
    "    # alpha_psd = alpha_spect.compute_psd(fmin = alpha[0], fmax = alpha[1])\n",
    "    # beta_psd = beta_spect.compute_psd(fmin = beta[0], fmax = beta[1])\n",
    "    # delta_psd = delta_spect.compute_psd(fmin = delta[0], fmax = delta[1])\n",
    "    # theta_psd = theta_spect.compute_psd(fmin = theta[0], fmax = theta[1])\n",
    "\n",
    "    # alpha_powers_pre.append(alpha_psd.get_data().mean(axis = 1).mean(axis=0) * pow(10, 13))\n",
    "    # beta_powers_pre.append(beta_psd.get_data().mean(axis = 1).mean(axis=0) * pow(10, 13))\n",
    "    # delta_powers_pre.append(delta_psd.get_data().mean(axis = 1).mean(axis=0) * pow(10, 13))\n",
    "    # theta_powers_pre.append(theta_psd.get_data().mean(axis = 1).mean(axis=0) * pow(10, 13))\n",
    "    alpha_patient = []\n",
    "    beta_patient = []\n",
    "    delta_patient = []\n",
    "    theta_patient = []\n",
    "    gamma_patient = []\n",
    "    for i in range(64):\n",
    "        alpha_patient.append(signal_power(raw.get_data()[i], 1000, alpha[0], alpha[1]))\n",
    "        beta_patient.append(signal_power(raw.get_data()[i], 1000, beta[0], beta[1]))\n",
    "        delta_patient.append(signal_power(raw.get_data()[i], 1000, delta[0], delta[1]))\n",
    "        theta_patient.append(signal_power(raw.get_data()[i], 1000, theta[0], theta[1]))\n",
    "        gamma_patient.append(signal_power(raw.get_data()[i], 1000, gamma[0], gamma[1]))\n",
    "    alpha_powers_pre_all.append(alpha_patient)\n",
    "    beta_powers_pre_all.append(beta_patient)\n",
    "    delta_powers_pre_all.append(delta_patient)\n",
    "    theta_powers_pre_all.append(theta_patient)\n",
    "    gamma_powers_pre_all.append(gamma_patient)\n",
    "\n",
    "    # alpha_powers_pre_all.append(alpha_psd.get_data().mean(axis = 1) * pow(10, 13))\n",
    "    # beta_powers_pre_all.append(beta_psd.get_data().mean(axis = 1) * pow(10, 13))\n",
    "    # delta_powers_pre_all.append(delta_psd.get_data().mean(axis = 1) * pow(10, 13))\n",
    "    # theta_powers_pre_all.append(theta_psd.get_data().mean(axis = 1) * pow(10, 13))"
   ]
  },
  {
   "cell_type": "code",
   "execution_count": 99,
   "metadata": {},
   "outputs": [],
   "source": [
    "\n",
    "alpha_powers_pre = []\n",
    "beta_powers_pre = []\n",
    "delta_powers_pre = []\n",
    "theta_powers_pre = []\n",
    "gamma_powers_pre = []\n",
    "for i in range(20):\n",
    "    alpha_powers_pre.append(sum(alpha_powers_pre_all[i]) / len(alpha_powers_pre_all[i]))\n",
    "    beta_powers_pre.append(sum(beta_powers_pre_all[i]) / len(beta_powers_pre_all[i]))\n",
    "    delta_powers_pre.append(sum(delta_powers_pre_all[i]) / len(delta_powers_pre_all[i]))\n",
    "    theta_powers_pre.append(sum(theta_powers_pre_all[i]) / len(theta_powers_pre_all[i]))\n",
    "    gamma_powers_pre.append(sum(gamma_powers_pre_all[i]) / len(gamma_powers_pre_all[i]))"
   ]
  },
  {
   "cell_type": "code",
   "execution_count": 100,
   "metadata": {},
   "outputs": [],
   "source": [
    "%%capture\n",
    "\n",
    "alpha = [8, 13]\n",
    "beta = [13, 30]\n",
    "delta = [1.25, 4]\n",
    "theta = [4, 8]\n",
    "gamma = [30, 48]\n",
    "\n",
    "alpha_powers_post = []\n",
    "beta_powers_post = []\n",
    "delta_powers_post = []\n",
    "theta_powers_post = []\n",
    "gamma_powers_post = []\n",
    "\n",
    "alpha_powers_post_all = []\n",
    "beta_powers_post_all = []\n",
    "delta_powers_post_all = []\n",
    "theta_powers_post_all = []\n",
    "gamma_powers_post_all = []\n",
    "\n",
    "for file in EC_post:\n",
    "    raw = mne.io.read_raw_edf(file, preload=True, exclude=['EEG VREF'])\n",
    "    raw = raw.crop(tmin=10, tmax=300)\n",
    "\n",
    "    # alpha_spect = raw.copy().filter(alpha[0], alpha[1])\n",
    "    # beta_spect = raw.copy().filter(beta[0], beta[1])\n",
    "    # delta_spect = raw.copy().filter(delta[0], delta[1])\n",
    "    # theta_spect = raw.copy().filter(theta[0], theta[1])\n",
    "\n",
    "    # alpha_psd = alpha_spect.compute_psd(fmin = alpha[0], fmax = alpha[1])\n",
    "    # beta_psd = beta_spect.compute_psd(fmin = beta[0], fmax = beta[1])\n",
    "    # delta_psd = delta_spect.compute_psd(fmin = delta[0], fmax = delta[1])\n",
    "    # theta_psd = theta_spect.compute_psd(fmin = theta[0], fmax = theta[1])\n",
    "\n",
    "    # alpha_powers_post.append(alpha_psd.get_data().mean(axis = 1).mean(axis=0) * pow(10, 13))\n",
    "    # beta_powers_post.append(beta_psd.get_data().mean(axis = 1).mean(axis=0) * pow(10, 13))\n",
    "    # delta_powers_post.append(delta_psd.get_data().mean(axis = 1).mean(axis=0) * pow(10, 13))\n",
    "    # theta_powers_post.append(theta_psd.get_data().mean(axis = 1).mean(axis=0) * pow(10, 13))\n",
    "\n",
    "    # alpha_powers_post_all.append(alpha_psd.get_data().mean(axis = 1) * pow(10, 13))\n",
    "    # beta_powers_post_all.append(beta_psd.get_data().mean(axis = 1) * pow(10, 13))\n",
    "    # delta_powers_post_all.append(delta_psd.get_data().mean(axis = 1) * pow(10, 13))\n",
    "    # theta_powers_post_all.append(theta_psd.get_data().mean(axis = 1) * pow(10, 13))\n",
    "\n",
    "    alpha_patient = []\n",
    "    beta_patient = []\n",
    "    delta_patient = []\n",
    "    theta_patient = []\n",
    "    gamma_patient = []\n",
    "    for i in range(64):\n",
    "        alpha_patient.append(signal_power(raw.get_data()[i], 1000, alpha[0], alpha[1]))\n",
    "        beta_patient.append(signal_power(raw.get_data()[i], 1000, beta[0], beta[1]))\n",
    "        delta_patient.append(signal_power(raw.get_data()[i], 1000, delta[0], delta[1]))\n",
    "        theta_patient.append(signal_power(raw.get_data()[i], 1000, theta[0], theta[1]))\n",
    "        gamma_patient.append(signal_power(raw.get_data()[i], 1000, gamma[0], gamma[1]))\n",
    "    alpha_powers_post_all.append(alpha_patient)\n",
    "    beta_powers_post_all.append(beta_patient)\n",
    "    delta_powers_post_all.append(delta_patient)\n",
    "    theta_powers_post_all.append(theta_patient)\n",
    "    gamma_powers_post_all.append(gamma_patient)\n"
   ]
  },
  {
   "cell_type": "code",
   "execution_count": 101,
   "metadata": {},
   "outputs": [],
   "source": [
    "\n",
    "alpha_powers_post = []\n",
    "beta_powers_post = []\n",
    "delta_powers_post = []\n",
    "theta_powers_post = []\n",
    "gamma_powers_post = []\n",
    "for i in range(20):\n",
    "    alpha_powers_post.append(sum(alpha_powers_post_all[i]) / len(alpha_powers_post_all[i]))\n",
    "    beta_powers_post.append(sum(beta_powers_post_all[i]) / len(beta_powers_post_all[i]))\n",
    "    delta_powers_post.append(sum(delta_powers_post_all[i]) / len(delta_powers_post_all[i]))\n",
    "    theta_powers_post.append(sum(theta_powers_post_all[i]) / len(theta_powers_post_all[i]))\n",
    "    gamma_powers_post.append(sum(gamma_powers_post_all[i]) / len(gamma_powers_post_all[i]))"
   ]
  },
  {
   "cell_type": "code",
   "execution_count": 110,
   "metadata": {},
   "outputs": [
    {
     "data": {
      "text/plain": [
       "0.8314052105452012"
      ]
     },
     "execution_count": 110,
     "metadata": {},
     "output_type": "execute_result"
    }
   ],
   "source": [
    "alpha_powers_pre[1]"
   ]
  },
  {
   "cell_type": "markdown",
   "metadata": {},
   "source": [
    "Making box plot compating powers of all frequency bands before and after eating.\n",
    "We average all of the values to get only power value for each frequency band for each patient."
   ]
  },
  {
   "cell_type": "code",
   "execution_count": 103,
   "metadata": {},
   "outputs": [
    {
     "data": {
      "image/png": "[encoded data removed]",
      "text/plain": [
       "<Figure size 2000x1000 with 5 Axes>"
      ]
     },
     "metadata": {},
     "output_type": "display_data"
    }
   ],
   "source": [
    "all_powers = [alpha_powers_pre, alpha_powers_post, beta_powers_pre, beta_powers_post, delta_powers_pre, delta_powers_post, theta_powers_pre, theta_powers_post, gamma_powers_pre, gamma_powers_post]\n",
    "\n",
    "all_powers_labels = ['alpha_powers', 'beta_powers', 'delta_powers', 'theta_powers', 'gamma_powers']\n",
    "\n",
    "red_circle = dict(markerfacecolor='red', marker='o', markeredgecolor='white')\n",
    "mean_shape = dict(markerfacecolor='green', marker='D', markeredgecolor='green')\n",
    "\n",
    "plt.figure(figsize=(20, 10))\n",
    "plt.subplot(1, 5, 1)\n",
    "plt.boxplot(all_powers[0: 2], flierprops=red_circle, showmeans=True, meanprops=mean_shape)\n",
    "plt.title(all_powers_labels[0])\n",
    "plt.grid()\n",
    "\n",
    "plt.subplot(1, 5, 2)\n",
    "plt.boxplot(all_powers[2: 4], flierprops=red_circle, showmeans=True, meanprops=mean_shape)\n",
    "plt.title(all_powers_labels[1])\n",
    "plt.grid()\n",
    "\n",
    "plt.subplot(1, 5, 3)\n",
    "plt.boxplot(all_powers[4: 6], flierprops=red_circle, showmeans=True, meanprops=mean_shape)\n",
    "plt.semilogy()\n",
    "plt.grid()\n",
    "plt.title(all_powers_labels[2])\n",
    "\n",
    "plt.subplot(1, 5, 4)\n",
    "plt.boxplot(all_powers[6: 8], flierprops=red_circle, showmeans=True, meanprops=mean_shape)\n",
    "plt.title(all_powers_labels[3])\n",
    "plt.semilogy()\n",
    "plt.grid()\n",
    "\n",
    "plt.subplot(1, 5, 5)\n",
    "plt.boxplot(all_powers[8: 10], flierprops=red_circle, showmeans=True, meanprops=mean_shape)\n",
    "plt.title(all_powers_labels[4])\n",
    "plt.semilogy()\n",
    "plt.grid()\n",
    "plt.show()"
   ]
  },
  {
   "cell_type": "markdown",
   "metadata": {},
   "source": [
    "Looking into the relationship between all of the channels instead of combining all channels into one"
   ]
  },
  {
   "cell_type": "code",
   "execution_count": 104,
   "metadata": {},
   "outputs": [],
   "source": [
    "# for i in range(20):\n",
    "#     alpha_powers_pre_all[i] = alpha_powers_pre_all[i].tolist()\n",
    "#     beta_powers_pre_all[i] = beta_powers_pre_all[i].tolist()\n",
    "#     delta_powers_pre_all[i] = delta_powers_pre_all[i].tolist()\n",
    "#     theta_powers_pre_all[i] = theta_powers_pre_all[i].tolist()\n",
    "#     alpha_powers_post_all[i] = alpha_powers_post_all[i].tolist()\n",
    "#     beta_powers_post_all[i] = beta_powers_post_all[i].tolist()\n",
    "#     delta_powers_post_all[i] = delta_powers_post_all[i].tolist()\n",
    "#     theta_powers_post_all[i] = theta_powers_post_all[i].tolist()"
   ]
  },
  {
   "cell_type": "code",
   "execution_count": 105,
   "metadata": {},
   "outputs": [],
   "source": [
    "cols = []\n",
    "bands = ['alpha', 'beta', 'delta', 'theta', 'gamma']\n",
    "\n",
    "for i in range(5):\n",
    "    for j in range(64):\n",
    "        cols.append(bands[i] + str(j + 1))\n",
    "\n",
    "cols.append('target')"
   ]
  },
  {
   "cell_type": "code",
   "execution_count": 106,
   "metadata": {},
   "outputs": [],
   "source": [
    "all_combined_pre = []\n",
    "all_combined_post = []\n",
    "\n",
    "for i in range(20):\n",
    "    all_combined_pre.append(alpha_powers_pre_all[i] + beta_powers_pre_all[i] + delta_powers_pre_all[i] + theta_powers_pre_all[i] + gamma_powers_pre_all[i] + [1])\n",
    "    all_combined_post.append(alpha_powers_post_all[i] + beta_powers_post_all[i] + delta_powers_post_all[i] + theta_powers_post_all[i] + gamma_powers_post_all[i] + [0])"
   ]
  },
  {
   "cell_type": "code",
   "execution_count": 107,
   "metadata": {},
   "outputs": [],
   "source": [
    "\n",
    "all_combined = all_combined_pre + all_combined_post\n",
    "df = pd.DataFrame(all_combined, columns = cols, dtype = float)\n",
    "df.to_excel('Dataset_old_method.xlsx')"
   ]
  },
  {
   "cell_type": "markdown",
   "metadata": {},
   "source": [
    "Computing pairwise T plots for all powers"
   ]
  },
  {
   "cell_type": "code",
   "execution_count": 108,
   "metadata": {},
   "outputs": [
    {
     "name": "stdout",
     "output_type": "stream",
     "text": [
      "ALPHA\n",
      "BETA\n",
      "10\n",
      "36\n",
      "DELTA\n",
      "THETA\n",
      "GAMMA\n",
      "40\n",
      "43\n",
      "44\n"
     ]
    }
   ],
   "source": [
    "alpha_powers_pre_all_t = np.array(alpha_powers_pre_all).T.tolist()\n",
    "alpha_powers_post_all_t = np.array(alpha_powers_post_all).T.tolist()\n",
    "beta_powers_pre_all_t = np.array(beta_powers_pre_all).T.tolist()\n",
    "beta_powers_post_all_t = np.array(beta_powers_post_all).T.tolist()\n",
    "delta_powers_pre_all_t = np.array(delta_powers_pre_all).T.tolist()\n",
    "delta_powers_post_all_t = np.array(delta_powers_post_all).T.tolist()\n",
    "theta_powers_pre_all_t = np.array(theta_powers_pre_all).T.tolist()\n",
    "theta_powers_post_all_t = np.array(theta_powers_post_all).T.tolist()\n",
    "gamma_powers_pre_all_t = np.array(gamma_powers_pre_all).T.tolist()\n",
    "gamma_powers_post_all_t = np.array(gamma_powers_post_all).T.tolist()\n",
    "\n",
    "def compute_ttest(pre, post):\n",
    "    results = []\n",
    "    for i in range(64):\n",
    "        results.append(stats.ttest_rel(pre[i], post[i]))\n",
    "        if(results[i].pvalue <= 0.05):\n",
    "            print(i + 1)\n",
    "\n",
    "print(\"ALPHA\")\n",
    "compute_ttest(alpha_powers_pre_all_t, alpha_powers_post_all_t)\n",
    "print(\"BETA\")\n",
    "compute_ttest(beta_powers_pre_all_t, beta_powers_post_all_t)\n",
    "print(\"DELTA\")\n",
    "compute_ttest(delta_powers_pre_all_t, delta_powers_post_all_t)\n",
    "print(\"THETA\")\n",
    "compute_ttest(theta_powers_pre_all_t, theta_powers_post_all_t)\n",
    "print(\"GAMMA\")\n",
    "compute_ttest(gamma_powers_pre_all_t, gamma_powers_post_all_t)"
   ]
  }
 ],
 "metadata": {
  "kernelspec": {
   "display_name": "Python 3",
   "language": "python",
   "name": "python3"
  },
  "language_info": {
   "codemirror_mode": {
    "name": "ipython",
    "version": 3
   },
   "file_extension": ".py",
   "mimetype": "text/x-python",
   "name": "python",
   "nbconvert_exporter": "python",
   "pygments_lexer": "ipython3",
   "version": "3.10.11"
  },
  "orig_nbformat": 4
 },
 "nbformat": 4,
 "nbformat_minor": 2
}
