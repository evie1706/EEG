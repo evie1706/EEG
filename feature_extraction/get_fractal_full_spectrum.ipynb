{
 "cells": [
  {
   "cell_type": "code",
   "execution_count": 11,
   "metadata": {},
   "outputs": [],
   "source": [
    "# Import all the required libraries \n",
    "\n",
    "from glob import glob\n",
    "import mne\n",
    "import numpy as np\n",
    "import matplotlib.pyplot as plt \n",
    "import pandas as pd\n",
    "from scipy import stats\n",
    "from scipy import signal\n",
    "from scipy import fftpack\n",
    "import pywt\n",
    "import os,sys\n",
    "from scipy.signal import coherence\n",
    "from neurodsp.aperiodic import compute_irasa, fit_irasa"
   ]
  },
  {
   "cell_type": "code",
   "execution_count": 12,
   "metadata": {},
   "outputs": [
    {
     "name": "stdout",
     "output_type": "stream",
     "text": [
      "80\n",
      "F:\\Alabama_Internship\\EEG\\Deepesh_Original_EEG_Data\\H10_EC_post.edf\n"
     ]
    }
   ],
   "source": [
    "all_files = glob('F:\\Alabama_Internship\\EEG\\Deepesh_Original_EEG_Data\\*.edf')\n",
    "print(len(all_files))\n",
    "print(all_files[0])"
   ]
  },
  {
   "cell_type": "code",
   "execution_count": 13,
   "metadata": {},
   "outputs": [
    {
     "name": "stdout",
     "output_type": "stream",
     "text": [
      "F:\\Alabama_Internship\\EEG\\Deepesh_Original_EEG_Data\\H9_EC_pre.edf F:\\Alabama_Internship\\EEG\\Deepesh_Original_EEG_Data\\H9_EC_post.edf\n"
     ]
    }
   ],
   "source": [
    "EC_pre = [i for i in all_files if 'EC_pre' in i.split(\"\\\\\")[4]]\n",
    "EC_post = [i for i in all_files if 'EC_post' in i.split(\"\\\\\")[4]]\n",
    "\n",
    "EC_pre.sort()\n",
    "EC_post.sort()\n",
    "\n",
    "print(EC_pre[19], EC_post[19])"
   ]
  },
  {
   "cell_type": "code",
   "execution_count": 14,
   "metadata": {},
   "outputs": [],
   "source": [
    "%%capture\n",
    "sf = 1000 # Sampling frequency\n",
    "\n",
    "alpha = [8, 13]\n",
    "beta = [13, 30]\n",
    "delta = [1.25, 4]\n",
    "theta = [4, 8]\n",
    "gamma = [30, 48]\n",
    "\n",
    "fractal_pre_all = []\n",
    "\n",
    "for file in EC_pre:\n",
    "    raw = mne.io.read_raw_edf(file, preload=True, exclude=['EEG VREF'])\n",
    "    raw = raw.crop(tmin=10, tmax=300)\n",
    "    raw = (raw.copy()).filter(delta[0], gamma[1])\n",
    "\n",
    "    patient = []\n",
    "\n",
    "    for i in range(64):\n",
    "        freqs, psd_aperiodic, psd_periodic = compute_irasa(raw.get_data()[i], sf, f_range=(delta[0], gamma[1]), thresh=1)\n",
    "        intercept, fit_sl = fit_irasa(freqs, psd_aperiodic)\n",
    "        patient.append(fit_sl)\n",
    "\n",
    "    fractal_pre_all.append(patient)\n"
   ]
  },
  {
   "cell_type": "code",
   "execution_count": 15,
   "metadata": {},
   "outputs": [],
   "source": [
    "%%capture\n",
    "sf = 1000 # Sampling frequency\n",
    "\n",
    "alpha = [8, 13]\n",
    "beta = [13, 30]\n",
    "delta = [1.25, 4]\n",
    "theta = [4, 8]\n",
    "gamma = [30, 48]\n",
    "\n",
    "fractal_post_all = []\n",
    "\n",
    "for file in EC_post:\n",
    "    raw = mne.io.read_raw_edf(file, preload=True, exclude=['EEG VREF'])\n",
    "    raw = raw.crop(tmin=10, tmax=300)\n",
    "    raw = (raw.copy()).filter(delta[0], gamma[1])\n",
    "\n",
    "    patient = []\n",
    "\n",
    "    for i in range(64):\n",
    "        freqs, psd_aperiodic, psd_periodic = compute_irasa(raw.get_data()[i], sf, f_range=(delta[0], gamma[1]), thresh=1)\n",
    "        intercept, fit_sl = fit_irasa(freqs, psd_aperiodic)\n",
    "        patient.append(fit_sl)\n",
    "\n",
    "    fractal_post_all.append(patient)"
   ]
  },
  {
   "cell_type": "markdown",
   "metadata": {},
   "source": [
    "Looking into the relationship between all of the channels instead of combining all channels into one"
   ]
  },
  {
   "cell_type": "code",
   "execution_count": 16,
   "metadata": {},
   "outputs": [],
   "source": [
    "cols = []\n",
    "bands = ['channel']\n",
    "\n",
    "for i in range(1):\n",
    "    for j in range(64):\n",
    "        cols.append(bands[i] + str(j + 1))\n",
    "\n",
    "cols.append('target')"
   ]
  },
  {
   "cell_type": "code",
   "execution_count": 17,
   "metadata": {},
   "outputs": [],
   "source": [
    "all_combined_pre = []\n",
    "all_combined_post = []\n",
    "\n",
    "for i in range(20):\n",
    "    all_combined_pre.append(fractal_pre_all[i] + [1])\n",
    "    all_combined_post.append(fractal_post_all[i] + [0])"
   ]
  },
  {
   "cell_type": "code",
   "execution_count": 19,
   "metadata": {},
   "outputs": [],
   "source": [
    "all_combined = all_combined_pre + all_combined_post\n",
    "df = pd.DataFrame(all_combined, columns = cols, dtype = float)\n",
    "df.to_excel('Dataset_fractal_full_spectrum.xlsx')"
   ]
  },
  {
   "cell_type": "markdown",
   "metadata": {},
   "source": [
    "Computing pairwise T plots for all powers"
   ]
  },
  {
   "cell_type": "code",
   "execution_count": 20,
   "metadata": {},
   "outputs": [
    {
     "name": "stdout",
     "output_type": "stream",
     "text": [
      "CHANNELS\n",
      "49\n"
     ]
    }
   ],
   "source": [
    "fractal_pre_all_t = np.array(fractal_pre_all).T.tolist()\n",
    "fractal_post_all_t = np.array(fractal_post_all).T.tolist()\n",
    "\n",
    "def compute_ttest(pre, post):\n",
    "    results = []\n",
    "    for i in range(64):\n",
    "        results.append(stats.ttest_rel(pre[i], post[i]))\n",
    "        if(results[i].pvalue <= 0.05):\n",
    "            print(i + 1)\n",
    "\n",
    "print(\"CHANNELS\")\n",
    "compute_ttest(fractal_pre_all_t, fractal_post_all_t)"
   ]
  }
 ],
 "metadata": {
  "kernelspec": {
   "display_name": "Python 3",
   "language": "python",
   "name": "python3"
  },
  "language_info": {
   "codemirror_mode": {
    "name": "ipython",
    "version": 3
   },
   "file_extension": ".py",
   "mimetype": "text/x-python",
   "name": "python",
   "nbconvert_exporter": "python",
   "pygments_lexer": "ipython3",
   "version": "3.10.11"
  },
  "orig_nbformat": 4
 },
 "nbformat": 4,
 "nbformat_minor": 2
}
