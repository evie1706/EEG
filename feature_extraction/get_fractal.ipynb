{
 "cells": [
  {
   "cell_type": "code",
   "execution_count": 1,
   "metadata": {},
   "outputs": [],
   "source": [
    "# Import all the required libraries \n",
    "\n",
    "from glob import glob\n",
    "import mne\n",
    "import numpy as np\n",
    "import matplotlib.pyplot as plt \n",
    "import pandas as pd\n",
    "from scipy import stats\n",
    "from scipy import signal\n",
    "from scipy import fftpack\n",
    "import pywt\n",
    "import os,sys\n",
    "from scipy.signal import coherence\n",
    "from neurodsp.aperiodic import compute_irasa, fit_irasa"
   ]
  },
  {
   "cell_type": "code",
   "execution_count": 2,
   "metadata": {},
   "outputs": [
    {
     "name": "stdout",
     "output_type": "stream",
     "text": [
      "80\n",
      "F:\\Alabama_Internship\\EEG\\Deepesh_Original_EEG_Data\\H10_EC_post.edf\n"
     ]
    }
   ],
   "source": [
    "all_files = glob('F:\\Alabama_Internship\\EEG\\Deepesh_Original_EEG_Data\\*.edf')\n",
    "print(len(all_files))\n",
    "print(all_files[0])"
   ]
  },
  {
   "cell_type": "code",
   "execution_count": 3,
   "metadata": {},
   "outputs": [
    {
     "name": "stdout",
     "output_type": "stream",
     "text": [
      "F:\\Alabama_Internship\\EEG\\Deepesh_Original_EEG_Data\\H9_EC_pre.edf F:\\Alabama_Internship\\EEG\\Deepesh_Original_EEG_Data\\H9_EC_post.edf\n"
     ]
    }
   ],
   "source": [
    "EC_pre = [i for i in all_files if 'EC_pre' in i.split(\"\\\\\")[4]]\n",
    "EC_post = [i for i in all_files if 'EC_post' in i.split(\"\\\\\")[4]]\n",
    "\n",
    "EC_pre.sort()\n",
    "EC_post.sort()\n",
    "\n",
    "print(EC_pre[19], EC_post[19])"
   ]
  },
  {
   "cell_type": "code",
   "execution_count": 4,
   "metadata": {},
   "outputs": [],
   "source": [
    "%%capture\n",
    "sf = 1000 # Sampling frequency\n",
    "\n",
    "alpha = [8, 13]\n",
    "beta = [13, 30]\n",
    "delta = [1.25, 4]\n",
    "theta = [4, 8]\n",
    "gamma = [30, 48]\n",
    "\n",
    "alpha_fractal_pre_all = []\n",
    "beta_fractal_pre_all = []\n",
    "delta_fractal_pre_all = []\n",
    "theta_fractal_pre_all = []\n",
    "gamma_fractal_pre_all = []\n",
    "\n",
    "for file in EC_pre:\n",
    "    raw = mne.io.read_raw_edf(file, preload=True, exclude=['EEG VREF'])\n",
    "    raw = raw.crop(tmin=10, tmax=300)\n",
    "    raw = (raw.copy()).filter(delta[0], gamma[1])\n",
    "\n",
    "    alpha_patient = []\n",
    "    beta_patient = []\n",
    "    delta_patient = []\n",
    "    theta_patient = []\n",
    "    gamma_patient = []\n",
    "\n",
    "    for i in range(64):\n",
    "        freqs, psd_aperiodic, psd_periodic = compute_irasa(raw.get_data()[i], sf, f_range=tuple(alpha), thresh=1)\n",
    "        intercept, fit_sl = fit_irasa(freqs, psd_aperiodic)\n",
    "        alpha_patient.append(fit_sl)\n",
    "\n",
    "        freqs, psd_aperiodic, psd_periodic = compute_irasa(raw.get_data()[i], sf, f_range=tuple(beta), thresh=1)\n",
    "        intercept, fit_sl = fit_irasa(freqs, psd_aperiodic)\n",
    "        beta_patient.append(fit_sl)\n",
    "\n",
    "        freqs, psd_aperiodic, psd_periodic = compute_irasa(raw.get_data()[i], sf, f_range=tuple(delta), thresh=1)\n",
    "        intercept, fit_sl = fit_irasa(freqs, psd_aperiodic)\n",
    "        delta_patient.append(fit_sl)\n",
    "\n",
    "        freqs, psd_aperiodic, psd_periodic = compute_irasa(raw.get_data()[i], sf, f_range=tuple(theta), thresh=1)\n",
    "        intercept, fit_sl = fit_irasa(freqs, psd_aperiodic)\n",
    "        theta_patient.append(fit_sl)\n",
    "\n",
    "        freqs, psd_aperiodic, psd_periodic = compute_irasa(raw.get_data()[i], sf, f_range=tuple(gamma), thresh=1)\n",
    "        intercept, fit_sl = fit_irasa(freqs, psd_aperiodic)\n",
    "        gamma_patient.append(fit_sl)\n",
    "\n",
    "    alpha_fractal_pre_all.append(alpha_patient)\n",
    "    beta_fractal_pre_all.append(beta_patient)\n",
    "    delta_fractal_pre_all.append(delta_patient)\n",
    "    theta_fractal_pre_all.append(theta_patient)\n",
    "    gamma_fractal_pre_all.append(gamma_patient)\n",
    "\n",
    "    # alpha_spect = (raw.copy()).filter(alpha[0], alpha[1])\n",
    "    # beta_spect = (raw.copy()).filter(beta[0], beta[1])\n",
    "    # delta_spect = (raw.copy()).filter(delta[0], delta[1])\n",
    "    # theta_spect = (raw.copy()).filter(theta[0], theta[1])\n",
    "    # gamma_spect = (raw.copy()).filter(gamma[0], gamma[1])\n",
    "\n",
    "    # alpha_psd = alpha_spect.compute_psd(fmin = alpha[0], fmax = alpha[1])\n",
    "    # beta_psd = beta_spect.compute_psd(fmin = beta[0], fmax = beta[1])\n",
    "    # delta_psd = delta_spect.compute_psd(fmin = delta[0], fmax = delta[1])\n",
    "    # theta_psd = theta_spect.compute_psd(fmin = theta[0], fmax = theta[1])\n",
    "    # gamma_psd = gamma_spect.compute_psd(fmin = gamma[0], fmax = gamma[1])\n",
    "\n",
    "    # alpha_powers_pre.append(alpha_psd.get_data().sum(axis = 1).mean(axis=0) * pow(10, 13))\n",
    "    # beta_powers_pre.append(beta_psd.get_data().sum(axis = 1).mean(axis=0) * pow(10, 13))\n",
    "    # delta_powers_pre.append(delta_psd.get_data().sum(axis = 1).mean(axis=0) * pow(10, 13))\n",
    "    # theta_powers_pre.append(theta_psd.get_data().sum(axis = 1).mean(axis=0) * pow(10, 13))\n",
    "    # gamma_powers_pre.append(gamma_psd.get_data().sum(axis = 1).mean(axis=0) * pow(10, 13))\n",
    "\n",
    "    # alpha_powers_pre_all.append(alpha_psd.get_data().sum(axis = 1) * pow(10, 13))\n",
    "    # beta_powers_pre_all.append(beta_psd.get_data().sum(axis = 1) * pow(10, 13))\n",
    "    # delta_powers_pre_all.append(delta_psd.get_data().sum(axis = 1) * pow(10, 13))\n",
    "    # theta_powers_pre_all.append(theta_psd.get_data().sum(axis = 1) * pow(10, 13))\n",
    "    # gamma_powers_pre_all.append(gamma_psd.get_data().sum(axis = 1) * pow(10, 13))\n",
    "\n"
   ]
  },
  {
   "cell_type": "code",
   "execution_count": 5,
   "metadata": {},
   "outputs": [],
   "source": [
    "%%capture\n",
    "sf = 1000 # Sampling frequency\n",
    "\n",
    "alpha = [8, 13]\n",
    "beta = [13, 30]\n",
    "delta = [1.25, 4]\n",
    "theta = [4, 8]\n",
    "gamma = [30, 48]\n",
    "\n",
    "alpha_fractal_post_all = []\n",
    "beta_fractal_post_all = []\n",
    "delta_fractal_post_all = []\n",
    "theta_fractal_post_all = []\n",
    "gamma_fractal_post_all = []\n",
    "\n",
    "for file in EC_post:\n",
    "    raw = mne.io.read_raw_edf(file, preload=True, exclude=['EEG VREF'])\n",
    "    raw = raw.crop(tmin=10, tmax=300)\n",
    "    raw = (raw.copy()).filter(delta[0], gamma[1])\n",
    "\n",
    "    alpha_patient = []\n",
    "    beta_patient = []\n",
    "    delta_patient = []\n",
    "    theta_patient = []\n",
    "    gamma_patient = []\n",
    "\n",
    "    for i in range(64):\n",
    "        freqs, psd_aperiodic, psd_periodic = compute_irasa(raw.get_data()[i], sf, f_range=tuple(alpha), thresh=1)\n",
    "        intercept, fit_sl = fit_irasa(freqs, psd_aperiodic)\n",
    "        alpha_patient.append(fit_sl)\n",
    "\n",
    "        freqs, psd_aperiodic, psd_periodic = compute_irasa(raw.get_data()[i], sf, f_range=tuple(beta), thresh=1)\n",
    "        intercept, fit_sl = fit_irasa(freqs, psd_aperiodic)\n",
    "        beta_patient.append(fit_sl)\n",
    "\n",
    "        freqs, psd_aperiodic, psd_periodic = compute_irasa(raw.get_data()[i], sf, f_range=tuple(delta), thresh=1)\n",
    "        intercept, fit_sl = fit_irasa(freqs, psd_aperiodic)\n",
    "        delta_patient.append(fit_sl)\n",
    "\n",
    "        freqs, psd_aperiodic, psd_periodic = compute_irasa(raw.get_data()[i], sf, f_range=tuple(theta), thresh=1)\n",
    "        intercept, fit_sl = fit_irasa(freqs, psd_aperiodic)\n",
    "        theta_patient.append(fit_sl)\n",
    "\n",
    "        freqs, psd_aperiodic, psd_periodic = compute_irasa(raw.get_data()[i], sf, f_range=tuple(gamma), thresh=1)\n",
    "        intercept, fit_sl = fit_irasa(freqs, psd_aperiodic)\n",
    "        gamma_patient.append(fit_sl)\n",
    "\n",
    "    alpha_fractal_post_all.append(alpha_patient)\n",
    "    beta_fractal_post_all.append(beta_patient)\n",
    "    delta_fractal_post_all.append(delta_patient)\n",
    "    theta_fractal_post_all.append(theta_patient)\n",
    "    gamma_fractal_post_all.append(gamma_patient)"
   ]
  },
  {
   "cell_type": "markdown",
   "metadata": {},
   "source": [
    "Looking into the relationship between all of the channels instead of combining all channels into one"
   ]
  },
  {
   "cell_type": "code",
   "execution_count": 6,
   "metadata": {},
   "outputs": [],
   "source": [
    "cols = []\n",
    "bands = ['alpha', 'beta', 'delta', 'theta', 'gamma']\n",
    "\n",
    "for i in range(5):\n",
    "    for j in range(64):\n",
    "        cols.append(bands[i] + str(j + 1))\n",
    "\n",
    "cols.append('target')"
   ]
  },
  {
   "cell_type": "code",
   "execution_count": 7,
   "metadata": {},
   "outputs": [],
   "source": [
    "all_combined_pre = []\n",
    "all_combined_post = []\n",
    "\n",
    "for i in range(20):\n",
    "    all_combined_pre.append(alpha_fractal_pre_all[i] + beta_fractal_pre_all[i] + delta_fractal_pre_all[i] + theta_fractal_pre_all[i] + gamma_fractal_pre_all[i] + [1])\n",
    "    all_combined_post.append(alpha_fractal_post_all[i] + beta_fractal_post_all[i] + delta_fractal_post_all[i] + theta_fractal_post_all[i] + gamma_fractal_post_all[i] + [0])"
   ]
  },
  {
   "cell_type": "code",
   "execution_count": 8,
   "metadata": {},
   "outputs": [],
   "source": [
    "\n",
    "all_combined = all_combined_pre + all_combined_post\n",
    "df = pd.DataFrame(all_combined, columns = cols, dtype = float)\n",
    "df.to_excel('Dataset_fractal.xlsx')"
   ]
  },
  {
   "cell_type": "markdown",
   "metadata": {},
   "source": [
    "Computing pairwise T plots for all powers"
   ]
  },
  {
   "cell_type": "code",
   "execution_count": 9,
   "metadata": {},
   "outputs": [
    {
     "name": "stdout",
     "output_type": "stream",
     "text": [
      "ALPHA\n",
      "BETA\n",
      "8\n",
      "10\n",
      "38\n",
      "39\n",
      "40\n",
      "43\n",
      "44\n",
      "DELTA\n",
      "2\n",
      "7\n",
      "18\n",
      "19\n",
      "25\n",
      "28\n",
      "34\n",
      "36\n",
      "53\n",
      "54\n",
      "THETA\n",
      "11\n",
      "12\n",
      "17\n",
      "18\n",
      "19\n",
      "20\n",
      "24\n",
      "25\n",
      "26\n",
      "27\n",
      "28\n",
      "29\n",
      "37\n",
      "61\n",
      "63\n",
      "64\n",
      "GAMMA\n",
      "29\n"
     ]
    }
   ],
   "source": [
    "alpha_fractal_pre_all_t = np.array(alpha_fractal_pre_all).T.tolist()\n",
    "alpha_fractal_post_all_t = np.array(alpha_fractal_post_all).T.tolist()\n",
    "beta_fractal_pre_all_t = np.array(beta_fractal_pre_all).T.tolist()\n",
    "beta_fractal_post_all_t = np.array(beta_fractal_post_all).T.tolist()\n",
    "delta_fractal_pre_all_t = np.array(delta_fractal_pre_all).T.tolist()\n",
    "delta_fractal_post_all_t = np.array(delta_fractal_post_all).T.tolist()\n",
    "theta_fractal_pre_all_t = np.array(theta_fractal_pre_all).T.tolist()\n",
    "theta_fractal_post_all_t = np.array(theta_fractal_post_all).T.tolist()\n",
    "gamma_fractal_pre_all_t = np.array(gamma_fractal_pre_all).T.tolist()\n",
    "gamma_fractal_post_all_t = np.array(gamma_fractal_post_all).T.tolist()\n",
    "\n",
    "def compute_ttest(pre, post):\n",
    "    results = []\n",
    "    for i in range(64):\n",
    "        results.append(stats.ttest_rel(pre[i], post[i]))\n",
    "        if(results[i].pvalue <= 0.05):\n",
    "            print(i + 1)\n",
    "\n",
    "print(\"ALPHA\")\n",
    "compute_ttest(alpha_fractal_pre_all_t, alpha_fractal_post_all_t)\n",
    "print(\"BETA\")\n",
    "compute_ttest(beta_fractal_pre_all_t, beta_fractal_post_all_t)\n",
    "print(\"DELTA\")\n",
    "compute_ttest(delta_fractal_pre_all_t, delta_fractal_post_all_t)\n",
    "print(\"THETA\")\n",
    "compute_ttest(theta_fractal_pre_all_t, theta_fractal_post_all_t)\n",
    "print(\"GAMMA\")\n",
    "compute_ttest(gamma_fractal_pre_all_t, gamma_fractal_post_all_t)"
   ]
  }
 ],
 "metadata": {
  "kernelspec": {
   "display_name": "Python 3",
   "language": "python",
   "name": "python3"
  },
  "language_info": {
   "codemirror_mode": {
    "name": "ipython",
    "version": 3
   },
   "file_extension": ".py",
   "mimetype": "text/x-python",
   "name": "python",
   "nbconvert_exporter": "python",
   "pygments_lexer": "ipython3",
   "version": "3.10.11"
  },
  "orig_nbformat": 4
 },
 "nbformat": 4,
 "nbformat_minor": 2
}
