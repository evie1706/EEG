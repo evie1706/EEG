{
 "cells": [
  {
   "cell_type": "code",
   "execution_count": 1,
   "metadata": {},
   "outputs": [],
   "source": [
    "# Import all the required libraries \n",
    "\n",
    "from glob import glob\n",
    "import mne\n",
    "import numpy as np\n",
    "import matplotlib.pyplot as plt \n",
    "import pandas as pd\n",
    "from scipy import stats\n",
    "from scipy import signal\n",
    "from scipy import fftpack\n",
    "import pywt\n",
    "import os,sys\n",
    "from scipy.signal import coherence"
   ]
  },
  {
   "cell_type": "code",
   "execution_count": 2,
   "metadata": {},
   "outputs": [
    {
     "name": "stdout",
     "output_type": "stream",
     "text": [
      "80\n",
      "F:\\Alabama_Internship\\EEG\\Deepesh_Original_EEG_Data\\H10_EC_post.edf\n"
     ]
    }
   ],
   "source": [
    "all_files = glob('F:\\Alabama_Internship\\EEG\\Deepesh_Original_EEG_Data\\*.edf')\n",
    "print(len(all_files))\n",
    "print(all_files[0])"
   ]
  },
  {
   "cell_type": "code",
   "execution_count": 3,
   "metadata": {},
   "outputs": [
    {
     "name": "stdout",
     "output_type": "stream",
     "text": [
      "F:\\Alabama_Internship\\EEG\\Deepesh_Original_EEG_Data\\H9_EC_pre.edf F:\\Alabama_Internship\\EEG\\Deepesh_Original_EEG_Data\\H9_EC_post.edf\n"
     ]
    }
   ],
   "source": [
    "EC_pre = [i for i in all_files if 'EC_pre' in i.split(\"\\\\\")[4]]\n",
    "EC_post = [i for i in all_files if 'EC_post' in i.split(\"\\\\\")[4]]\n",
    "\n",
    "EC_pre.sort()\n",
    "EC_post.sort()\n",
    "\n",
    "print(EC_pre[19], EC_post[19])"
   ]
  },
  {
   "cell_type": "code",
   "execution_count": 4,
   "metadata": {},
   "outputs": [],
   "source": [
    "%%capture\n",
    "\n",
    "alpha = [8, 13]\n",
    "beta = [13, 30]\n",
    "delta = [1.25, 4]\n",
    "theta = [4, 8]\n",
    "gamma = [30, 48]\n",
    "\n",
    "alpha_powers_pre = []\n",
    "beta_powers_pre = []\n",
    "delta_powers_pre = []\n",
    "theta_powers_pre = []\n",
    "gamma_powers_pre = []\n",
    "\n",
    "alpha_powers_pre_all = []\n",
    "beta_powers_pre_all = []\n",
    "delta_powers_pre_all = []\n",
    "theta_powers_pre_all = []\n",
    "gamma_powers_pre_all = []\n",
    "\n",
    "for file in EC_pre:\n",
    "    raw = mne.io.read_raw_edf(file, preload=True, exclude=['EEG VREF'])\n",
    "    raw = raw.crop(tmin=10, tmax=300)\n",
    "\n",
    "    alpha_spect = (raw.copy()).filter(alpha[0], alpha[1])\n",
    "    beta_spect = (raw.copy()).filter(beta[0], beta[1])\n",
    "    delta_spect = (raw.copy()).filter(delta[0], delta[1])\n",
    "    theta_spect = (raw.copy()).filter(theta[0], theta[1])\n",
    "    gamma_spect = (raw.copy()).filter(gamma[0], gamma[1])\n",
    "\n",
    "    alpha_psd = alpha_spect.compute_psd(fmin = alpha[0], fmax = alpha[1])\n",
    "    beta_psd = beta_spect.compute_psd(fmin = beta[0], fmax = beta[1])\n",
    "    delta_psd = delta_spect.compute_psd(fmin = delta[0], fmax = delta[1])\n",
    "    theta_psd = theta_spect.compute_psd(fmin = theta[0], fmax = theta[1])\n",
    "    gamma_psd = gamma_spect.compute_psd(fmin = gamma[0], fmax = gamma[1])\n",
    "\n",
    "    alpha_powers_pre.append(alpha_psd.get_data().sum(axis = 1).mean(axis=0) * pow(10, 13))\n",
    "    beta_powers_pre.append(beta_psd.get_data().sum(axis = 1).mean(axis=0) * pow(10, 13))\n",
    "    delta_powers_pre.append(delta_psd.get_data().sum(axis = 1).mean(axis=0) * pow(10, 13))\n",
    "    theta_powers_pre.append(theta_psd.get_data().sum(axis = 1).mean(axis=0) * pow(10, 13))\n",
    "    gamma_powers_pre.append(gamma_psd.get_data().sum(axis = 1).mean(axis=0) * pow(10, 13))\n",
    "\n",
    "    alpha_powers_pre_all.append(alpha_psd.get_data().sum(axis = 1) * pow(10, 13))\n",
    "    beta_powers_pre_all.append(beta_psd.get_data().sum(axis = 1) * pow(10, 13))\n",
    "    delta_powers_pre_all.append(delta_psd.get_data().sum(axis = 1) * pow(10, 13))\n",
    "    theta_powers_pre_all.append(theta_psd.get_data().sum(axis = 1) * pow(10, 13))\n",
    "    gamma_powers_pre_all.append(gamma_psd.get_data().sum(axis = 1) * pow(10, 13))\n",
    "\n"
   ]
  },
  {
   "cell_type": "code",
   "execution_count": 5,
   "metadata": {},
   "outputs": [
    {
     "name": "stdout",
     "output_type": "stream",
     "text": [
      "[243.10758779071068, 428.9263041360582, 431.71827202960105, 811.2194893442036, 1311.5385263982319, 1054.6595744546887, 110.39404998437304, 1807.8850182473846, 105.8460960807391, 542.8781497906979, 1181.2154738914344, 587.9322574661874, 797.8464482744644, 1335.4916297129857, 563.0355776730547, 156.67343726404675, 134.94197430342803, 1079.125284457651, 146.85027856375953, 456.23453981616143]\n",
      "[183.5740675618942, 132.76471855279001, 210.43394670503884, 248.5545206256649, 521.7314929727644, 244.751444348335, 71.52392028969855, 145.75835701330558, 85.40850380147347, 134.544802279409, 289.10602240195567, 247.5996415311967, 225.11422004345084, 308.43720028731826, 102.72838416960728, 160.05807218525965, 116.99488484116685, 2967.49532678733, 229.00445373562903, 153.32122592528296]\n",
      "[498.6518633337526, 439.9302445159442, 983.7882248695694, 351.9360594409383, 11182.489448616943, 347.2152240113697, 251.6743694693155, 251.6607062790025, 128.36347493004428, 229.65971499414954, 560.4649703098055, 250.66516059061803, 397.19325233369347, 407.29686301688446, 369.9537561578693, 317.1509290094051, 1063.3234207855107, 3583.196678678085, 7426.116234299923, 379.7087946527935]\n",
      "[187.41317513740873, 181.3252192824005, 355.71699683904393, 164.19757154982076, 1100.166762431673, 310.37885474914884, 85.02493661568063, 157.27537879429627, 39.71072625372093, 121.04528853393641, 352.2420041380219, 198.56109764092741, 215.3914260867334, 438.0561757296678, 108.21607894421643, 160.98335904459725, 123.59525318377938, 802.9330650144079, 617.3156831689735, 390.257141966115]\n",
      "[288.4764921257162, 69.97660056411706, 88.51967566417936, 119.04196931544418, 155.27781527041975, 57.42547617377724, 31.048699107677674, 109.14514171589728, 31.984840738961186, 56.83321067609321, 110.74468641298255, 87.36842283085232, 48.83411336423252, 117.33037015923696, 28.812795336327685, 66.5822508952656, 59.95269230175712, 7671.935094189823, 180.11965849568386, 38.720817253642686]\n"
     ]
    }
   ],
   "source": [
    "\n",
    "print(alpha_powers_pre)\n",
    "print(beta_powers_pre)\n",
    "print(delta_powers_pre)\n",
    "print(theta_powers_pre)\n",
    "print(gamma_powers_pre)"
   ]
  },
  {
   "cell_type": "code",
   "execution_count": 6,
   "metadata": {},
   "outputs": [],
   "source": [
    "%%capture\n",
    "\n",
    "alpha = [8, 13]\n",
    "beta = [13, 30]\n",
    "delta = [1.25, 4]\n",
    "theta = [4, 8]\n",
    "gamma = [30, 48]\n",
    "\n",
    "alpha_powers_post = []\n",
    "beta_powers_post = []\n",
    "delta_powers_post = []\n",
    "theta_powers_post = []\n",
    "gamma_powers_post = []\n",
    "\n",
    "alpha_powers_post_all = []\n",
    "beta_powers_post_all = []\n",
    "delta_powers_post_all = []\n",
    "theta_powers_post_all = []\n",
    "gamma_powers_post_all = []\n",
    "\n",
    "for file in EC_post:\n",
    "    raw = mne.io.read_raw_edf(file, preload=True, exclude=['EEG VREF'])\n",
    "    raw = raw.crop(tmin=5, tmax=300)\n",
    "\n",
    "    alpha_spect = raw.copy().filter(alpha[0], alpha[1])\n",
    "    beta_spect = raw.copy().filter(beta[0], beta[1])\n",
    "    delta_spect = raw.copy().filter(delta[0], delta[1])\n",
    "    theta_spect = raw.copy().filter(theta[0], theta[1])\n",
    "    gamma_spect = raw.copy().filter(gamma[0], gamma[1])\n",
    "\n",
    "    alpha_psd = alpha_spect.compute_psd(fmin = alpha[0], fmax = alpha[1])\n",
    "    beta_psd = beta_spect.compute_psd(fmin = beta[0], fmax = beta[1])\n",
    "    delta_psd = delta_spect.compute_psd(fmin = delta[0], fmax = delta[1])\n",
    "    theta_psd = theta_spect.compute_psd(fmin = theta[0], fmax = theta[1])\n",
    "    gamma_psd = gamma_spect.compute_psd(fmin = gamma[0], fmax = gamma[1])\n",
    "\n",
    "    alpha_powers_post.append(alpha_psd.get_data().sum(axis = 1).mean(axis=0) * pow(10, 13))\n",
    "    beta_powers_post.append(beta_psd.get_data().sum(axis = 1).mean(axis=0) * pow(10, 13))\n",
    "    delta_powers_post.append(delta_psd.get_data().sum(axis = 1).mean(axis=0) * pow(10, 13))\n",
    "    theta_powers_post.append(theta_psd.get_data().sum(axis = 1).mean(axis=0) * pow(10, 13))\n",
    "    gamma_powers_post.append(gamma_psd.get_data().sum(axis = 1).mean(axis=0) * pow(10, 13))\n",
    "\n",
    "    alpha_powers_post_all.append(alpha_psd.get_data().sum(axis = 1) * pow(10, 13))\n",
    "    beta_powers_post_all.append(beta_psd.get_data().sum(axis = 1) * pow(10, 13))\n",
    "    delta_powers_post_all.append(delta_psd.get_data().sum(axis = 1) * pow(10, 13))\n",
    "    theta_powers_post_all.append(theta_psd.get_data().sum(axis = 1) * pow(10, 13))\n",
    "    gamma_powers_post_all.append(gamma_psd.get_data().sum(axis = 1) * pow(10, 13))\n"
   ]
  },
  {
   "cell_type": "code",
   "execution_count": 7,
   "metadata": {},
   "outputs": [
    {
     "data": {
      "text/plain": [
       "array([284.84987383, 142.64463902, 121.95935851,  20.68994101,\n",
       "       162.71885919,  96.71258029,  32.1075846 , 109.81699037,\n",
       "        82.55441269, 147.2201759 , 117.43134392, 101.48921755,\n",
       "        93.16690085,  69.90640701,  56.46847878,  41.44316793,\n",
       "       259.71074657, 224.43862266, 154.10996396,  70.38731744,\n",
       "        83.84036409, 133.0085264 , 309.87884277, 422.66803072,\n",
       "       312.18126764, 233.84282643, 462.59889498, 209.71337089,\n",
       "       434.24686185, 607.04480151, 242.88232079, 419.71739112,\n",
       "       356.40913998, 199.87591048, 445.83936444, 328.23098841,\n",
       "       307.31451157, 214.39033491, 280.7838782 , 238.33497947,\n",
       "        30.57868357, 362.19888903, 333.61071008, 393.12830168,\n",
       "       525.52740948, 406.32750516, 405.13791059, 540.99239231,\n",
       "       368.62818026, 151.2534957 ,  48.18571959, 555.69126014,\n",
       "        84.61604294,  27.62723771, 382.12979361, 298.87730958,\n",
       "       148.63977022, 294.73428087, 173.19262586, 134.86137851,\n",
       "       317.1082176 , 340.08074767, 315.86278557, 287.26578217])"
      ]
     },
     "execution_count": 7,
     "metadata": {},
     "output_type": "execute_result"
    }
   ],
   "source": [
    "alpha_powers_pre_all[0]"
   ]
  },
  {
   "cell_type": "code",
   "execution_count": 8,
   "metadata": {},
   "outputs": [
    {
     "name": "stdout",
     "output_type": "stream",
     "text": [
      "[317.3882228313435, 302.3669917251133, 318.8132407142552, 853.9422703686062, 1181.753738010623, 1146.6346256984139, 165.58603346092474, 1791.6336870224147, 156.55206414278092, 543.4977908934841, 1400.996015510937, 360.0125340371752, 993.5873650803934, 2420.648569818686, 674.4690209587413, 156.19278125433308, 155.75031712909654, 832.7143303605891, 92.30792601122661, 448.29977562149406]\n",
      "[159.4871017469957, 138.10299852389574, 153.83198153253588, 255.08881919765776, 615.7267929868862, 372.6045934061971, 79.46117088688653, 117.07678563024595, 129.80665318092616, 132.42686510448232, 413.5265237252495, 230.57516780421096, 240.924341841145, 1046.0105998492227, 132.6564075403217, 229.5503752799608, 97.49951574260925, 2528.23134902656, 228.5415144541017, 135.87814562309637]\n",
      "[426.56793654883194, 219.4567820568566, 546.7198203319653, 933.5731257768971, 10432.692498376946, 2500.200955520113, 205.61346218940943, 149.70592087048684, 149.6385351428434, 272.85347844584027, 1695.510153701627, 262.84226004958794, 405.0807236677984, 39676.17775178936, 337.0908436132209, 407.86339344494445, 257.6288497805686, 577.4498933808912, 990.8903920603444, 357.7292797621578]\n",
      "[201.74397178326635, 95.95210726804433, 225.74726192382164, 216.3529680293427, 1443.9180501426263, 688.7774915048358, 98.93450611663506, 157.3118610461704, 58.3306862803875, 130.28050965325178, 536.3990642011161, 125.27744070628201, 244.06530046550557, 5362.844904125547, 129.64098069022427, 205.27852681456184, 91.96315304756736, 320.66454097950697, 145.45942417667564, 342.67649560876873]\n",
      "[196.60745458986327, 119.66055787047652, 43.52668745914809, 135.76741670647988, 154.15220644332297, 92.88100159283934, 23.82680969341584, 31.308897471288745, 55.77894086462521, 59.666897632262966, 227.44057281224366, 81.27086559287287, 57.799051388968195, 256.68752948144225, 67.55218364218209, 69.56875614083943, 53.35377744443145, 6591.796207103735, 176.62303641334756, 28.038118089739722]\n"
     ]
    }
   ],
   "source": [
    "\n",
    "print(alpha_powers_post)\n",
    "print(beta_powers_post)\n",
    "print(delta_powers_post)\n",
    "print(theta_powers_post)\n",
    "print(gamma_powers_post)"
   ]
  },
  {
   "cell_type": "markdown",
   "metadata": {},
   "source": [
    "Making box plot compating powers of all frequency bands before and after eating.\n",
    "We average all of the values to get only power value for each frequency band for each patient."
   ]
  },
  {
   "cell_type": "code",
   "execution_count": 9,
   "metadata": {},
   "outputs": [
    {
     "data": {
      "image/png": "[encoded data removed]",
      "text/plain": [
       "<Figure size 2000x1000 with 5 Axes>"
      ]
     },
     "metadata": {},
     "output_type": "display_data"
    }
   ],
   "source": [
    "all_powers = [alpha_powers_pre, alpha_powers_post, beta_powers_pre, beta_powers_post, delta_powers_pre, delta_powers_post, theta_powers_pre, theta_powers_post, gamma_powers_pre, gamma_powers_post]\n",
    "\n",
    "all_powers_labels = ['alpha_powers', 'beta_powers', 'delta_powers', 'theta_powers', 'gamma_powers']\n",
    "\n",
    "red_circle = dict(markerfacecolor='red', marker='o', markeredgecolor='white')\n",
    "mean_shape = dict(markerfacecolor='green', marker='D', markeredgecolor='green')\n",
    "\n",
    "plt.figure(figsize=(20, 10))\n",
    "plt.subplot(1, 5, 1)\n",
    "plt.boxplot(all_powers[0: 2], flierprops=red_circle, showmeans=True, meanprops=mean_shape)\n",
    "plt.title(all_powers_labels[0])\n",
    "plt.grid()\n",
    "\n",
    "plt.subplot(1, 5, 2)\n",
    "plt.boxplot(all_powers[2: 4], flierprops=red_circle, showmeans=True, meanprops=mean_shape)\n",
    "plt.title(all_powers_labels[1])\n",
    "plt.grid()\n",
    "\n",
    "plt.subplot(1, 5, 3)\n",
    "plt.boxplot(all_powers[4: 6], flierprops=red_circle, showmeans=True, meanprops=mean_shape)\n",
    "plt.semilogy()\n",
    "plt.grid()\n",
    "plt.title(all_powers_labels[2])\n",
    "\n",
    "plt.subplot(1, 5, 4)\n",
    "plt.boxplot(all_powers[6: 8], flierprops=red_circle, showmeans=True, meanprops=mean_shape)\n",
    "plt.title(all_powers_labels[3])\n",
    "plt.semilogy()\n",
    "plt.grid()\n",
    "\n",
    "plt.subplot(1, 5, 5)\n",
    "plt.boxplot(all_powers[8: 10], flierprops=red_circle, showmeans=True, meanprops=mean_shape)\n",
    "plt.title(all_powers_labels[4])\n",
    "plt.semilogy()\n",
    "plt.grid()\n",
    "plt.show()"
   ]
  },
  {
   "cell_type": "markdown",
   "metadata": {},
   "source": [
    "Looking into the relationship between all of the channels instead of combining all channels into one"
   ]
  },
  {
   "cell_type": "code",
   "execution_count": 10,
   "metadata": {},
   "outputs": [],
   "source": [
    "for i in range(20):\n",
    "    alpha_powers_pre_all[i] = alpha_powers_pre_all[i].tolist()\n",
    "    beta_powers_pre_all[i] = beta_powers_pre_all[i].tolist()\n",
    "    delta_powers_pre_all[i] = delta_powers_pre_all[i].tolist()\n",
    "    theta_powers_pre_all[i] = theta_powers_pre_all[i].tolist()\n",
    "    gamma_powers_pre_all[i] = gamma_powers_pre_all[i].tolist()\n",
    "    alpha_powers_post_all[i] = alpha_powers_post_all[i].tolist()\n",
    "    beta_powers_post_all[i] = beta_powers_post_all[i].tolist()\n",
    "    delta_powers_post_all[i] = delta_powers_post_all[i].tolist()\n",
    "    theta_powers_post_all[i] = theta_powers_post_all[i].tolist()\n",
    "    gamma_powers_post_all[i] = gamma_powers_post_all[i].tolist()"
   ]
  },
  {
   "cell_type": "code",
   "execution_count": 11,
   "metadata": {},
   "outputs": [],
   "source": [
    "cols = []\n",
    "bands = ['alpha', 'beta', 'delta', 'theta', 'gamma']\n",
    "\n",
    "for i in range(5):\n",
    "    for j in range(64):\n",
    "        cols.append(bands[i] + str(j + 1))\n",
    "\n",
    "cols.append('target')"
   ]
  },
  {
   "cell_type": "code",
   "execution_count": 12,
   "metadata": {},
   "outputs": [],
   "source": [
    "all_combined_pre = []\n",
    "all_combined_post = []\n",
    "\n",
    "for i in range(20):\n",
    "    all_combined_pre.append(alpha_powers_pre_all[i] + beta_powers_pre_all[i] + delta_powers_pre_all[i] + theta_powers_pre_all[i] + gamma_powers_pre_all[i] + [1])\n",
    "    all_combined_post.append(alpha_powers_post_all[i] + beta_powers_post_all[i] + delta_powers_post_all[i] + theta_powers_post_all[i] + gamma_powers_post_all[i] +[0])\n",
    "\n",
    "all_combined = all_combined_pre + all_combined_post\n",
    "df = pd.DataFrame(all_combined, columns = cols, dtype = float)\n",
    "df.to_excel('Dataset.xlsx')"
   ]
  },
  {
   "cell_type": "markdown",
   "metadata": {},
   "source": [
    "Computing pairwise T plots for all powers"
   ]
  },
  {
   "cell_type": "code",
   "execution_count": 13,
   "metadata": {},
   "outputs": [
    {
     "name": "stdout",
     "output_type": "stream",
     "text": [
      "ALPHA\n",
      "BETA\n",
      "36\n",
      "39\n",
      "DELTA\n",
      "THETA\n",
      "GAMMA\n",
      "40\n",
      "43\n",
      "44\n"
     ]
    }
   ],
   "source": [
    "alpha_powers_pre_all_t = np.array(alpha_powers_pre_all).T.tolist()\n",
    "alpha_powers_post_all_t = np.array(alpha_powers_post_all).T.tolist()\n",
    "beta_powers_pre_all_t = np.array(beta_powers_pre_all).T.tolist()\n",
    "beta_powers_post_all_t = np.array(beta_powers_post_all).T.tolist()\n",
    "delta_powers_pre_all_t = np.array(delta_powers_pre_all).T.tolist()\n",
    "delta_powers_post_all_t = np.array(delta_powers_post_all).T.tolist()\n",
    "theta_powers_pre_all_t = np.array(theta_powers_pre_all).T.tolist()\n",
    "theta_powers_post_all_t = np.array(theta_powers_post_all).T.tolist()\n",
    "gamma_powers_pre_all_t = np.array(gamma_powers_pre_all).T.tolist()\n",
    "gamma_powers_post_all_t = np.array(gamma_powers_post_all).T.tolist()\n",
    "\n",
    "alpha_differences = []\n",
    "\n",
    "def compute_ttest(pre, post):\n",
    "    results = []\n",
    "    for i in range(64):\n",
    "        results.append(stats.ttest_rel(pre[i], post[i]))\n",
    "        if(results[i].pvalue <= 0.05):\n",
    "            print(i + 1)\n",
    "\n",
    "# for i in range(64):\n",
    "#     diff = []\n",
    "#     for j in range(20):\n",
    "#         diff.append(alpha_powers_pre_all_t[i][j] - alpha_powers_post_all_t[i][j])\n",
    "#     alpha_differences.append(diff)\n",
    "\n",
    "# for i in range(64):\n",
    "#     ttest_results.append(stats.ttest_rel(alpha_powers_pre_all_t[i], alpha_powers_post_all_t[i]))\n",
    "#     if(ttest_results[i].pvalue <= 0.05):\n",
    "#         print(i + 1)\n",
    "\n",
    "print(\"ALPHA\")\n",
    "compute_ttest(alpha_powers_pre_all_t, alpha_powers_post_all_t)\n",
    "print(\"BETA\")\n",
    "compute_ttest(beta_powers_pre_all_t, beta_powers_post_all_t)\n",
    "print(\"DELTA\")\n",
    "compute_ttest(delta_powers_pre_all_t, delta_powers_post_all_t)\n",
    "print(\"THETA\")\n",
    "compute_ttest(theta_powers_pre_all_t, theta_powers_post_all_t)\n",
    "print(\"GAMMA\")\n",
    "compute_ttest(gamma_powers_pre_all_t, gamma_powers_post_all_t)"
   ]
  }
 ],
 "metadata": {
  "kernelspec": {
   "display_name": "Python 3",
   "language": "python",
   "name": "python3"
  },
  "language_info": {
   "codemirror_mode": {
    "name": "ipython",
    "version": 3
   },
   "file_extension": ".py",
   "mimetype": "text/x-python",
   "name": "python",
   "nbconvert_exporter": "python",
   "pygments_lexer": "ipython3",
   "version": "3.10.11"
  },
  "orig_nbformat": 4
 },
 "nbformat": 4,
 "nbformat_minor": 2
}
