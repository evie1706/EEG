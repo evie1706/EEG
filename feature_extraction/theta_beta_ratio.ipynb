{
 "cells": [
  {
   "cell_type": "code",
   "execution_count": 105,
   "metadata": {},
   "outputs": [],
   "source": [
    "# Import all the required libraries \n",
    "\n",
    "from glob import glob\n",
    "import mne\n",
    "import numpy as np\n",
    "import matplotlib.pyplot as plt \n",
    "import pandas as pd\n",
    "from scipy import stats\n",
    "from scipy import signal\n",
    "from scipy import fftpack\n",
    "import pywt\n",
    "import os,sys\n",
    "from scipy.signal import coherence"
   ]
  },
  {
   "cell_type": "code",
   "execution_count": 106,
   "metadata": {},
   "outputs": [],
   "source": [
    "powers_df = pd.read_excel(\"F:\\Alabama_Internship\\EEG\\Deepesh Code\\Dataset_window_multitaper.xlsx\")"
   ]
  },
  {
   "cell_type": "code",
   "execution_count": 107,
   "metadata": {},
   "outputs": [],
   "source": [
    "theta_pre = []\n",
    "theta_post = []\n",
    "beta_pre = []\n",
    "beta_post = []\n",
    "\n",
    "\n",
    "for i in range(64):\n",
    "    theta_pre.append((powers_df['theta' + str(i + 1)].tolist())[:20])\n",
    "    theta_post.append((powers_df['theta' + str(i + 1)].tolist())[20:])\n",
    "    beta_pre.append((powers_df['beta' + str(i + 1)].tolist())[:20])\n",
    "    beta_post.append((powers_df['beta' + str(i + 1)].tolist())[20:])"
   ]
  },
  {
   "cell_type": "code",
   "execution_count": 108,
   "metadata": {},
   "outputs": [],
   "source": [
    "ratio_pre = []\n",
    "ratio_post = []\n",
    "for i in range(64):\n",
    "    temp_pre = []\n",
    "    temp_post =[]\n",
    "    for j in range(20):\n",
    "        temp_pre.append(theta_pre[i][j] / beta_pre[i][j])\n",
    "        temp_post.append(theta_post[i][j] / beta_post[i][j])\n",
    "    ratio_pre.append(temp_pre)\n",
    "    ratio_post.append(temp_post)"
   ]
  },
  {
   "cell_type": "code",
   "execution_count": 109,
   "metadata": {},
   "outputs": [],
   "source": [
    "def compute_ttest(pre, post):\n",
    "    results = []\n",
    "    for i in range(64):\n",
    "        results.append(stats.ttest_rel(pre[i], post[i]))\n",
    "        if(results[i].pvalue <= 0.05):\n",
    "            print(i + 1)\n",
    "\n",
    "compute_ttest(ratio_pre, ratio_post)"
   ]
  },
  {
   "cell_type": "code",
   "execution_count": 110,
   "metadata": {},
   "outputs": [],
   "source": [
    "ratio_pre_mean = [0] * 20\n",
    "ratio_post_mean = [0] * 20\n",
    "\n",
    "for i in range(20):\n",
    "    for j in range(64):\n",
    "        ratio_pre_mean[i] += ratio_pre[j][i]\n",
    "        ratio_post_mean[i] += ratio_post[j][i]\n",
    "    ratio_pre_mean[i] /= 64\n",
    "    ratio_post_mean[i] /= 64"
   ]
  },
  {
   "cell_type": "code",
   "execution_count": 111,
   "metadata": {},
   "outputs": [
    {
     "data": {
      "image/png": "[encoded data removed]",
      "text/plain": [
       "<Figure size 640x480 with 1 Axes>"
      ]
     },
     "metadata": {},
     "output_type": "display_data"
    }
   ],
   "source": [
    "red_circle = dict(markerfacecolor='red', marker='o', markeredgecolor='white')\n",
    "mean_shape = dict(markerfacecolor='green', marker='D', markeredgecolor='green')\n",
    "\n",
    "plt.boxplot([ratio_pre_mean, ratio_post_mean], flierprops=red_circle, showmeans=True, meanprops=mean_shape)\n",
    "plt.grid()\n",
    "plt.show()"
   ]
  },
  {
   "cell_type": "code",
   "execution_count": 112,
   "metadata": {},
   "outputs": [
    {
     "data": {
      "text/plain": [
       "(40, 65)"
      ]
     },
     "execution_count": 112,
     "metadata": {},
     "output_type": "execute_result"
    }
   ],
   "source": [
    "ratio_pre = np.array(ratio_pre).T\n",
    "ratio_post = np.array(ratio_post).T\n",
    "\n",
    "cols = []\n",
    "for i in range(64):\n",
    "    cols.append(\"channel\" + str(i + 1))\n",
    "\n",
    "cols.append(\"target\")\n",
    "target = ([1] * 20) + ([0] * 20)\n",
    "target = np.array(target).reshape(-1, 1)\n",
    "\n",
    "combined = np.concatenate((ratio_pre, ratio_post))\n",
    "combined = np.concatenate((combined, target), 1)\n",
    "combined.shape"
   ]
  },
  {
   "cell_type": "code",
   "execution_count": 113,
   "metadata": {},
   "outputs": [],
   "source": [
    "df = pd.DataFrame(combined, columns = cols, dtype = float)\n",
    "df.to_excel('Dataset_multitaper_theta_beta_ratio.xlsx')"
   ]
  }
 ],
 "metadata": {
  "kernelspec": {
   "display_name": "Python 3",
   "language": "python",
   "name": "python3"
  },
  "language_info": {
   "codemirror_mode": {
    "name": "ipython",
    "version": 3
   },
   "file_extension": ".py",
   "mimetype": "text/x-python",
   "name": "python",
   "nbconvert_exporter": "python",
   "pygments_lexer": "ipython3",
   "version": "3.10.11"
  },
  "orig_nbformat": 4
 },
 "nbformat": 4,
 "nbformat_minor": 2
}
