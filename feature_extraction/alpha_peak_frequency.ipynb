{
 "cells": [
  {
   "cell_type": "code",
   "execution_count": 1,
   "metadata": {},
   "outputs": [],
   "source": [
    "# Import all the required libraries \n",
    "\n",
    "from glob import glob\n",
    "import mne\n",
    "import numpy as np\n",
    "import matplotlib.pyplot as plt \n",
    "import pandas as pd\n",
    "from scipy import stats\n",
    "from scipy import signal\n",
    "from scipy import fftpack\n",
    "import pywt\n",
    "import os,sys\n",
    "from scipy.signal import coherence\n",
    "from mne.time_frequency import psd_array_multitaper"
   ]
  },
  {
   "cell_type": "code",
   "execution_count": 2,
   "metadata": {},
   "outputs": [
    {
     "name": "stdout",
     "output_type": "stream",
     "text": [
      "80\n",
      "F:\\Alabama_Internship\\EEG\\Deepesh_Original_EEG_Data\\H10_EC_post.edf\n"
     ]
    }
   ],
   "source": [
    "# Import all of the EEG data\n",
    "\n",
    "all_files = glob('F:\\Alabama_Internship\\EEG\\Deepesh_Original_EEG_Data\\*.edf')\n",
    "print(len(all_files))\n",
    "print(all_files[0])"
   ]
  },
  {
   "cell_type": "code",
   "execution_count": 3,
   "metadata": {},
   "outputs": [
    {
     "name": "stdout",
     "output_type": "stream",
     "text": [
      "F:\\Alabama_Internship\\EEG\\Deepesh_Original_EEG_Data\\H9_EC_pre.edf F:\\Alabama_Internship\\EEG\\Deepesh_Original_EEG_Data\\H9_EC_post.edf\n"
     ]
    }
   ],
   "source": [
    "# Seperate date consisting of before eating patients and after eating patients\n",
    "\n",
    "EC_pre = [i for i in all_files if 'EC_pre' in i.split(\"\\\\\")[4]]\n",
    "EC_post = [i for i in all_files if 'EC_post' in i.split(\"\\\\\")[4]]\n",
    "\n",
    "EC_pre.sort()\n",
    "EC_post.sort()\n",
    "\n",
    "print(EC_pre[19], EC_post[19])"
   ]
  },
  {
   "cell_type": "code",
   "execution_count": 4,
   "metadata": {},
   "outputs": [],
   "source": [
    "def bandpower(data, sf, band, method='multitaper', window_sec=None, relative=False):\n",
    "    \"\"\"Compute the average power of the signal x in a specific frequency band.\n",
    "\n",
    "    Requires MNE-Python >= 0.14.\n",
    "\n",
    "    Parameters\n",
    "    ----------\n",
    "    data : 1d-array\n",
    "      Input signal in the time-domain.\n",
    "    sf : float\n",
    "      Sampling frequency of the data.\n",
    "    band : list\n",
    "      Lower and upper frequencies of the band of interest.\n",
    "    method : string\n",
    "      Periodogram method: 'welch' or 'multitaper'\n",
    "    window_sec : float\n",
    "      Length of each window in seconds. Useful only if method == 'welch'.\n",
    "      If None, window_sec = (1 / min(band)) * 2.\n",
    "    relative : boolean\n",
    "      If True, return the relative power (= divided by the total power of the signal).\n",
    "      If False (default), return the absolute power.\n",
    "\n",
    "    Return\n",
    "    ------\n",
    "    bp : float\n",
    "      Absolute or relative band power.\n",
    "    \"\"\"\n",
    "    from scipy.signal import welch\n",
    "    from scipy.integrate import simps\n",
    "    from mne.time_frequency import psd_array_multitaper\n",
    "\n",
    "    band = np.asarray(band)\n",
    "    low, high = band\n",
    "\n",
    "    # Compute the modified periodogram (Welch)\n",
    "    if method == 'welch':\n",
    "        if window_sec is not None:\n",
    "            nperseg = window_sec * sf\n",
    "        else:\n",
    "            nperseg = (2 / low) * sf\n",
    "\n",
    "        freqs, psd = welch(data, sf, nperseg=nperseg)\n",
    "\n",
    "    elif method == 'multitaper':\n",
    "        psd, freqs = psd_array_multitaper(data, sf, adaptive=True,\n",
    "                                          normalization='full', verbose=0)\n",
    "\n",
    "    # Frequency resolution\n",
    "    freq_res = freqs[1] - freqs[0]\n",
    "\n",
    "    # Find index of band in frequency vector\n",
    "    idx_band = np.logical_and(freqs >= low, freqs <= high)\n",
    "\n",
    "    # Integral approximation of the spectrum using parabola (Simpson's rule)\n",
    "    bp = simps(psd[idx_band], dx=freq_res)\n",
    "    rel = bp / simps(psd, dx=freq_res)\n",
    "    if relative:\n",
    "        bp /= simps(psd, dx=freq_res)\n",
    "    return [bp, rel]"
   ]
  },
  {
   "cell_type": "code",
   "execution_count": 5,
   "metadata": {},
   "outputs": [],
   "source": [
    "%%capture\n",
    "sf = 1000 # Sampling frequency\n",
    "\n",
    "alpha = [8, 13]\n",
    "beta = [13, 30]\n",
    "delta = [1.25, 4]\n",
    "theta = [4, 8]\n",
    "gamma = [30, 48]\n",
    "\n",
    "alpha_peak_pre_all = []\n",
    "\n",
    "for file in EC_pre:\n",
    "    raw = mne.io.read_raw_edf(file, preload=True, exclude=['EEG VREF'])\n",
    "    raw = raw.crop(tmin=10, tmax=300)\n",
    "    raw = (raw.copy()).filter(delta[0], gamma[1])\n",
    "\n",
    "    alpha_patient = []\n",
    "\n",
    "    for i in range(64):\n",
    "        psd, freqs = psd_array_multitaper(raw.get_data()[i], sf, fmin=alpha[0], fmax=alpha[1], adaptive=True, normalization='full', verbose=0)\n",
    "        index = np.argmax(psd)\n",
    "        alpha_patient.append(freqs[index])\n",
    "\n",
    "    alpha_peak_pre_all.append(alpha_patient)"
   ]
  },
  {
   "cell_type": "code",
   "execution_count": 6,
   "metadata": {},
   "outputs": [],
   "source": [
    "%%capture\n",
    "sf = 1000 # Sampling frequency\n",
    "\n",
    "alpha = [8, 13]\n",
    "beta = [13, 30]\n",
    "delta = [1.25, 4]\n",
    "theta = [4, 8]\n",
    "gamma = [30, 48]\n",
    "\n",
    "alpha_peak_post_all = []\n",
    "\n",
    "for file in EC_post:\n",
    "    raw = mne.io.read_raw_edf(file, preload=True, exclude=['EEG VREF'])\n",
    "    raw = raw.crop(tmin=10, tmax=300)\n",
    "    raw = (raw.copy()).filter(delta[0], gamma[1])\n",
    "\n",
    "    alpha_patient = []\n",
    "\n",
    "    for i in range(64):\n",
    "        psd, freqs = psd_array_multitaper(raw.get_data()[i], sf, fmin=alpha[0], fmax=alpha[1], adaptive=True, normalization='full', verbose=0)\n",
    "        index = np.argmax(psd)\n",
    "        alpha_patient.append(freqs[index])\n",
    "\n",
    "    alpha_peak_post_all.append(alpha_patient)"
   ]
  },
  {
   "cell_type": "markdown",
   "metadata": {},
   "source": [
    "Looking into the relationship between all of the channels instead of combining all channels into one"
   ]
  },
  {
   "cell_type": "code",
   "execution_count": 7,
   "metadata": {},
   "outputs": [],
   "source": [
    "cols = []\n",
    "bands = ['alpha']\n",
    "\n",
    "for i in range(1):\n",
    "    for j in range(64):\n",
    "        cols.append(bands[i] + str(j + 1))\n",
    "\n",
    "cols.append('target')"
   ]
  },
  {
   "cell_type": "code",
   "execution_count": 8,
   "metadata": {},
   "outputs": [],
   "source": [
    "all_combined_pre = []\n",
    "all_combined_post = []\n",
    "\n",
    "for i in range(20):\n",
    "    all_combined_pre.append(alpha_peak_pre_all[i] + [1])\n",
    "    all_combined_post.append(alpha_peak_post_all[i] + [0])"
   ]
  },
  {
   "cell_type": "code",
   "execution_count": 9,
   "metadata": {},
   "outputs": [],
   "source": [
    "\n",
    "all_combined = all_combined_pre + all_combined_post\n",
    "df = pd.DataFrame(all_combined, columns = cols, dtype = float)\n",
    "df.to_excel('Dataset_alpha_peak.xlsx')"
   ]
  },
  {
   "cell_type": "markdown",
   "metadata": {},
   "source": [
    "Computing pairwise T plots for all powers"
   ]
  },
  {
   "cell_type": "code",
   "execution_count": 10,
   "metadata": {},
   "outputs": [
    {
     "name": "stdout",
     "output_type": "stream",
     "text": [
      "ALPHA\n",
      "1\n",
      "9\n",
      "21\n",
      "26\n",
      "48\n",
      "49\n"
     ]
    }
   ],
   "source": [
    "alpha_peak_pre_all_t = np.array(alpha_peak_pre_all).T.tolist()\n",
    "alpha_peak_post_all_t = np.array(alpha_peak_post_all).T.tolist()\n",
    "\n",
    "def compute_ttest(pre, post):\n",
    "    results = []\n",
    "    for i in range(64):\n",
    "        results.append(stats.ttest_rel(pre[i], post[i]))\n",
    "        if(results[i].pvalue <= 0.05):\n",
    "            print(i + 1)\n",
    "\n",
    "print(\"ALPHA\")\n",
    "compute_ttest(alpha_peak_pre_all_t, alpha_peak_post_all_t)"
   ]
  }
 ],
 "metadata": {
  "kernelspec": {
   "display_name": "Python 3",
   "language": "python",
   "name": "python3"
  },
  "language_info": {
   "codemirror_mode": {
    "name": "ipython",
    "version": 3
   },
   "file_extension": ".py",
   "mimetype": "text/x-python",
   "name": "python",
   "nbconvert_exporter": "python",
   "pygments_lexer": "ipython3",
   "version": "3.10.11"
  },
  "orig_nbformat": 4
 },
 "nbformat": 4,
 "nbformat_minor": 2
}
